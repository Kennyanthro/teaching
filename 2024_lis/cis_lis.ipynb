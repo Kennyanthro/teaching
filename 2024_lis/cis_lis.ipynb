{
  "nbformat": 4,
  "nbformat_minor": 0,
  "metadata": {
    "colab": {
      "provenance": []
    },
    "kernelspec": {
      "name": "python3",
      "display_name": "Python 3"
    },
    "language_info": {
      "name": "python"
    }
  },
  "cells": [
    {
      "cell_type": "markdown",
      "source": [
        "# Confidence intervals"
      ],
      "metadata": {
        "id": "4VgNgdwnHyJT"
      }
    },
    {
      "cell_type": "markdown",
      "source": [
        "Before getting started, let's load some packages."
      ],
      "metadata": {
        "id": "8nNZMpg1JBgA"
      }
    },
    {
      "cell_type": "code",
      "source": [
        "## load packages\n",
        "import numpy as np\n",
        "import pandas as pd"
      ],
      "metadata": {
        "id": "ZCyxX2kDJV74"
      },
      "execution_count": null,
      "outputs": []
    },
    {
      "cell_type": "markdown",
      "source": [
        "## Sampling the Arsenal Stadium ⚽\n",
        "\n",
        "Here's a hypothetical study using simulated data to show the uncertainty between the population and samples --- it'll help us understand confidence intervals.\n",
        "\n",
        "We want to know the average height of every adult Arsenal fan attending the Emirates stadium next Sunday. Excluding under 18s and away fans, that's about 50,000 adults.\n",
        "\n",
        "## The population\n",
        "\n",
        "Remember this is all hypothetical! We can simulate the height of all 50,000 adults, and conveniently save it in a dataframe called population. We set the mean height as 175 cm and the standard deviation as 30 cm."
      ],
      "metadata": {
        "id": "TwW-IbXVH7b2"
      }
    },
    {
      "cell_type": "code",
      "source": [
        "## set mean height, sd height, number of adults\n",
        "mean, sd, size = 175, 30, 50000\n",
        "\n",
        "## create dataframe with two columns\n",
        "## person: numbers from 1 to 50000\n",
        "## height: normal distribution using mean, sd, and size\n",
        "population = pd.DataFrame(\n",
        "    dict(\n",
        "        person = range(1, size+1),\n",
        "        height = np.random.normal(loc = mean, scale = sd, size = size)),\n",
        "    columns=['person', 'height'])"
      ],
      "metadata": {
        "id": "xCM45Xu7KXqi"
      },
      "execution_count": null,
      "outputs": []
    },
    {
      "cell_type": "markdown",
      "source": [
        "Before taking a sample from our population, let's check a few things. Does our dataframe `population` have the two columns `person` and `height`, and how many rows does it have?"
      ],
      "metadata": {
        "id": "aZYra-8HK2Av"
      }
    },
    {
      "cell_type": "code",
      "execution_count": null,
      "metadata": {
        "id": "H2ztCuI_Hn2U"
      },
      "outputs": [],
      "source": [
        "## see first 6 rows\n",
        "population.head(n = 6)\n",
        "\n",
        "## get length of population\n",
        "print(population.shape)"
      ]
    },
    {
      "cell_type": "markdown",
      "source": [
        "Now, what is the mean height of the population?"
      ],
      "metadata": {
        "id": "dQ7PuRmXLVoK"
      }
    },
    {
      "cell_type": "code",
      "source": [
        "## get mean of columns and round to 1 d.p\n",
        "round(np.mean(population, axis = 0), ndigits = 1)"
      ],
      "metadata": {
        "collapsed": true,
        "id": "fFBVAjQ_LeHt"
      },
      "execution_count": null,
      "outputs": []
    },
    {
      "cell_type": "markdown",
      "source": [
        "## Samples\n",
        "\n",
        "Now in real life we could run a study to estimate the height of adult Arsenal fans. Realistically, we could stand outside the stadium and measure 100 adults. Let's do that with code, saving our 100 adults in an object called `sample001`."
      ],
      "metadata": {
        "id": "qTvZpju4LkYe"
      }
    },
    {
      "cell_type": "code",
      "source": [
        "## sample 100 people and save this into object called 'sample001'\n",
        "sample001 = population.sample(n = 100)"
      ],
      "metadata": {
        "id": "KeI-Z2AdNAJG"
      },
      "execution_count": null,
      "outputs": []
    },
    {
      "cell_type": "markdown",
      "source": [
        "Let's check the number of rows in this sample then calculate the mean height.\n",
        "\n",
        "**Think:** Would you expect the sample mean and the population mean to be identical?"
      ],
      "metadata": {
        "id": "xIkuEkSUNrqe"
      }
    },
    {
      "cell_type": "code",
      "source": [
        "## get length of sample001\n",
        "print(sample001.shape)\n",
        "\n",
        "## get mean of columns and round to 1 d.p\n",
        "round(np.mean(sample001, axis = 0), ndigits = 1)"
      ],
      "metadata": {
        "id": "72kwESIcNItB"
      },
      "execution_count": null,
      "outputs": []
    },
    {
      "cell_type": "markdown",
      "source": [
        "Let's take another sample, called `sample002`, and calculate the mean height.\n",
        "\n",
        "**Think:** Would you expect the mean of another sample to be the same as that of the first sample?"
      ],
      "metadata": {
        "id": "UJ5AcNh6N499"
      }
    },
    {
      "cell_type": "code",
      "source": [
        "## repeat sampling step above\n",
        "## sample 100 people and save this into object called 'sample002'\n",
        "sample002 = population.sample(n = 100)\n",
        "\n",
        "## get mean of columns and round to 1 d.p\n",
        "round(np.mean(sample002, axis = 0), ndigits = 1)"
      ],
      "metadata": {
        "id": "gsHam-qFOWOZ"
      },
      "execution_count": null,
      "outputs": []
    },
    {
      "cell_type": "markdown",
      "source": [
        "## Calculating 95% confidence intervals\n",
        "\n",
        "Let's calculate a confidence interval (CI), by hand, to see how they can communicate uncertainty.\n",
        "\n",
        "We will do this for our `sample001`.\n",
        "\n",
        "\n"
      ],
      "metadata": {
        "id": "QRkb-VDAQjZ8"
      }
    },
    {
      "cell_type": "code",
      "source": [
        "## save sample size in object n\n",
        "n = 100\n",
        "\n",
        "## calculate sample mean and save in object x bar\n",
        "x_bar = np.mean(sample001[\"height\"])\n",
        "\n",
        "## calculate standard error\n",
        "se = np.std(sample001[\"height\"])/np.sqrt(n)\n",
        "\n",
        "## calculate lower and upper limits\n",
        "lower = x_bar - (1.96 * se)\n",
        "upper = x_bar + (1.96 * se)\n",
        "\n",
        "## print limits\n",
        "print(lower, upper)"
      ],
      "metadata": {
        "id": "mwuMza58Q4nB"
      },
      "execution_count": null,
      "outputs": []
    },
    {
      "cell_type": "markdown",
      "source": [
        "## Extension task\n",
        "\n",
        "Let's recreate many samples to learn more about how sample means and confidence intervals vary from one sample to another. Basically, we'll repeat the steps above 20 times, and store them in separate objects.\n",
        "\n",
        "Before doing, we need to reate empty arrays where we can save the means and standard deviations that will be calculated from each sample, using `numpy.empty()`."
      ],
      "metadata": {
        "id": "e99Jw3m7SYg6"
      }
    },
    {
      "cell_type": "code",
      "source": [
        "samp_mean = np.empty(20)\n",
        "samp_sd = np.empty(20)"
      ],
      "metadata": {
        "id": "WFNO5NA6TA5y"
      },
      "execution_count": null,
      "outputs": []
    },
    {
      "cell_type": "markdown",
      "source": [
        "Now let's repeat the sampling, or \"iterate\", using a for loop:"
      ],
      "metadata": {
        "id": "QnXnNEeSTIFi"
      }
    },
    {
      "cell_type": "code",
      "source": [
        "for i in range(50):\n",
        "    samp = population.sample(n) # obtain a sample (n = 1000) from the population\n",
        "    samp_mean[i] = samp.mean() # save sample mean in ith element of samp_mean\n",
        "    samp_sd[i] = np.std(samp) # save sample sd in ith element of samp_sd"
      ],
      "metadata": {
        "id": "5CvGckeXTefE"
      },
      "execution_count": null,
      "outputs": []
    },
    {
      "cell_type": "markdown",
      "source": [
        "Now construct the 95% confidence intervals:"
      ],
      "metadata": {
        "id": "VxU2v_GTTjwt"
      }
    },
    {
      "cell_type": "code",
      "source": [
        "se_array = samp_sd/np.sqrt(n)\n",
        "lower_array = samp_mean - (1.96 * se_array)\n",
        "upper_array = samp_mean + (1.96 * se_array)"
      ],
      "metadata": {
        "id": "zlP96PjHTokp"
      },
      "execution_count": null,
      "outputs": []
    },
    {
      "cell_type": "markdown",
      "source": [
        "Lower bounds of these 20 confidence intervals are stored in `lower_array`, and the upper bounds are in `upper_array`. Let's view the first interval."
      ],
      "metadata": {
        "id": "B0rF5NivTtsW"
      }
    },
    {
      "cell_type": "code",
      "source": [
        "print(lower_array[1], upper_array[1])"
      ],
      "metadata": {
        "id": "7uEhHaE0T0wa"
      },
      "execution_count": null,
      "outputs": []
    },
    {
      "cell_type": "markdown",
      "source": [
        "**Can you**\n",
        "1. Guess how many of these 20 confidence intervals will not contain the parameter? Check!\n",
        "2. Adjust the confidence level to 50% and repeat the iterative process above. How many confidence intervals will not contain the parameter? Check!\n",
        "3. Plot all the confidence intervals (Hint: look up `matplotlib`)."
      ],
      "metadata": {
        "id": "h7_OQGMXT3mC"
      }
    }
  ]
}