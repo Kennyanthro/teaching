{
  "nbformat": 4,
  "nbformat_minor": 0,
  "metadata": {
    "colab": {
      "provenance": []
    },
    "kernelspec": {
      "name": "python3",
      "display_name": "Python 3"
    },
    "language_info": {
      "name": "python"
    }
  },
  "cells": [
    {
      "cell_type": "markdown",
      "source": [
        "# Confidence intervals"
      ],
      "metadata": {
        "id": "4VgNgdwnHyJT"
      }
    },
    {
      "cell_type": "markdown",
      "source": [
        "Before getting started, let's load some packages."
      ],
      "metadata": {
        "id": "8nNZMpg1JBgA"
      }
    },
    {
      "cell_type": "code",
      "source": [
        "## load packages\n",
        "import numpy as np\n",
        "import pandas as pd"
      ],
      "metadata": {
        "id": "ZCyxX2kDJV74"
      },
      "execution_count": 1,
      "outputs": []
    },
    {
      "cell_type": "markdown",
      "source": [
        "## Sampling the Arsenal Stadium ⚽\n",
        "\n",
        "Here's a hypothetical study using simulated data to show the uncertainty between the population and samples --- it'll help us understand confidence intervals.\n",
        "\n",
        "We want to know the average height of every adult Arsenal fan attending the Emirates stadium next Sunday. Excluding under 18s and away fans, that's about 50,000 adults.\n",
        "\n",
        "## The population\n",
        "\n",
        "Remember this is all hypothetical! We can simulate the height of all 50,000 adults, and conveniently save it in a dataframe called population. We set the mean height as 175 cm and the standard deviation as 30 cm."
      ],
      "metadata": {
        "id": "TwW-IbXVH7b2"
      }
    },
    {
      "cell_type": "code",
      "source": [
        "## set mean height, sd height, number of adults\n",
        "mean, sd, size = 175, 30, 50000\n",
        "\n",
        "## create dataframe with two columns\n",
        "## person: numbers from 1 to 50000\n",
        "## height: normal distribution using mean, sd, and size\n",
        "population = pd.DataFrame(\n",
        "    dict(\n",
        "        person = range(1, size+1),\n",
        "        height = np.random.normal(loc = mean, scale = sd, size = size)),\n",
        "    columns=['person', 'height'])"
      ],
      "metadata": {
        "id": "xCM45Xu7KXqi"
      },
      "execution_count": 33,
      "outputs": []
    },
    {
      "cell_type": "markdown",
      "source": [
        "Before taking a sample from our population, let's check a few things. Does our dataframe `population` have the two columns `person` and `height`, and how many rows does it have?"
      ],
      "metadata": {
        "id": "aZYra-8HK2Av"
      }
    },
    {
      "cell_type": "code",
      "execution_count": null,
      "metadata": {
        "id": "H2ztCuI_Hn2U"
      },
      "outputs": [],
      "source": [
        "## see first 6 rows\n",
        "population.head(n = 6)\n",
        "\n",
        "## get length of population\n",
        "print(population.shape)"
      ]
    },
    {
      "cell_type": "markdown",
      "source": [
        "Now, what is the mean height of the population?"
      ],
      "metadata": {
        "id": "dQ7PuRmXLVoK"
      }
    },
    {
      "cell_type": "code",
      "source": [
        "## get mean of columns and round to 1 d.p\n",
        "round(np.mean(population, axis = 0), ndigits = 1)"
      ],
      "metadata": {
        "collapsed": true,
        "id": "fFBVAjQ_LeHt"
      },
      "execution_count": null,
      "outputs": []
    },
    {
      "cell_type": "markdown",
      "source": [
        "## Samples\n",
        "\n",
        "Now in real life we could run a study to estimate the height of adult Arsenal fans. Realistically, we could stand outside the stadium and measure 100 adults. Let's do that with code, saving our 100 adults in an object called `sample001`."
      ],
      "metadata": {
        "id": "qTvZpju4LkYe"
      }
    },
    {
      "cell_type": "code",
      "source": [
        "## sample 100 people and save this into object called 'sample001'\n",
        "sample001 = population.sample(n = 100)"
      ],
      "metadata": {
        "id": "KeI-Z2AdNAJG"
      },
      "execution_count": 36,
      "outputs": []
    },
    {
      "cell_type": "markdown",
      "source": [
        "Let's check the number of rows in this sample then calculate the mean height.\n",
        "\n",
        "**Think:** Would you expect the sample mean and the population mean to be identical?"
      ],
      "metadata": {
        "id": "xIkuEkSUNrqe"
      }
    },
    {
      "cell_type": "code",
      "source": [
        "## get length of sample001\n",
        "print(sample001.shape)\n",
        "\n",
        "## get mean of columns and round to 1 d.p\n",
        "round(np.mean(sample001, axis = 0), ndigits = 1)"
      ],
      "metadata": {
        "id": "72kwESIcNItB"
      },
      "execution_count": null,
      "outputs": []
    },
    {
      "cell_type": "markdown",
      "source": [
        "Let's take another sample, called `sample002`, and calculate the mean height.\n",
        "\n",
        "**Think:** Would you expect the mean of another sample to be the same as that of the first sample?"
      ],
      "metadata": {
        "id": "UJ5AcNh6N499"
      }
    },
    {
      "cell_type": "code",
      "source": [
        "## repeat sampling step above\n",
        "## sample 100 people and save this into object called 'sample002'\n",
        "sample002 = population.sample(n = 100)\n",
        "\n",
        "## get mean of columns and round to 1 d.p\n",
        "round(np.mean(sample002, axis = 0), ndigits = 1)"
      ],
      "metadata": {
        "id": "gsHam-qFOWOZ"
      },
      "execution_count": null,
      "outputs": []
    },
    {
      "cell_type": "markdown",
      "source": [
        "## Calculating 95% confidence intervals\n",
        "\n",
        "Let's calculate a confidence interval (CI), by hand, to see how they can communicate uncertainty.\n",
        "\n",
        "We will do this for our `sample001`.\n",
        "\n",
        "\n"
      ],
      "metadata": {
        "id": "QRkb-VDAQjZ8"
      }
    },
    {
      "cell_type": "code",
      "source": [
        "## save sample size in object n\n",
        "n = 100\n",
        "\n",
        "## calculate sample mean and save in object x bar\n",
        "x_bar = np.mean(sample001[\"height\"])\n",
        "\n",
        "## calculate standard error\n",
        "se = np.std(sample001[\"height\"])/np.sqrt(n)\n",
        "\n",
        "## calculate lower and upper limits\n",
        "lower = x_bar - (1.96 * se)\n",
        "upper = x_bar + (1.96 * se)\n",
        "\n",
        "## print limits\n",
        "print(lower, upper)"
      ],
      "metadata": {
        "id": "mwuMza58Q4nB"
      },
      "execution_count": null,
      "outputs": []
    }
  ]
}